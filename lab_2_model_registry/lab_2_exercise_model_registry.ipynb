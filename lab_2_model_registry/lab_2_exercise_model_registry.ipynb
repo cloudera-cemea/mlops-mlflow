{
 "cells": [
  {
   "cell_type": "markdown",
   "metadata": {},
   "source": [
    "# Lab 2 Exercise: Model Registry\n",
    "\n",
    "Fix the code below by following best practices described in the [Lab #2 README](./README.md).\n",
    "\n",
    "Tasks:\n",
    "- ✅ Build a workflow that pushes a model from a previous experiment into the registry.\n",
    "- ✅ Automate the workflow using Cloudera Machine Learning Jobs and Pipelines.\n",
    "- ✅ Deploy the model as a REST API via the Cloudera User Interface.\n",
    "\n",
    "Bonus:\n",
    "- 🚀 Automate the Model Deployment by leveraging the Cloudera API.\n",
    "- 🚀 Extend the pipeline from `training -> registering` to `training -> registering -> deployment`\n",
    "- 🚀 Apply tagging best practices, e.g. to distinguish between DEV and PROD versions.\n",
    "- 🚀 Separate Model Training and Model Deployment into DEV and PROD projects."
   ]
  },
  {
   "cell_type": "markdown",
   "metadata": {},
   "source": [
    "# Solution"
   ]
  },
  {
   "cell_type": "code",
   "execution_count": null,
   "metadata": {},
   "outputs": [],
   "source": []
  }
 ],
 "metadata": {
  "language_info": {
   "name": "python"
  }
 },
 "nbformat": 4,
 "nbformat_minor": 2
}
