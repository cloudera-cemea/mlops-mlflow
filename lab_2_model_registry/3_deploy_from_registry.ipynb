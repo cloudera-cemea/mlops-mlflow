{
 "cells": [
  {
   "cell_type": "code",
   "execution_count": 22,
   "id": "455a6121-eaec-43eb-9151-1e6647c40ab8",
   "metadata": {
    "tags": []
   },
   "outputs": [
    {
     "name": "stdout",
     "output_type": "stream",
     "text": [
      "Model ID: 47t0-jfv6-xbas-aztt\n",
      "Version ID: 006x-2q8o-9dxe-iiqo\n"
     ]
    }
   ],
   "source": [
    "\"\"\"\n",
    "Script to automatically deploy a registered model to production using Cloudera Machine Learning.\n",
    "\n",
    "This script demonstrates a streamlined deployment pipeline that:\n",
    "1. Retrieves the latest version of a registered model\n",
    "2. Creates a model instance\n",
    "3. Automatically builds the model with specified runtime\n",
    "4. Automatically deploys the model as a production service\n",
    "\n",
    "The automated deployment process includes:\n",
    "- Model version selection\n",
    "- Runtime environment setup\n",
    "- Automatic build process\n",
    "- Automatic deployment with resource allocation\n",
    "- Single-step deployment configuration\n",
    "\n",
    "Note: This script uses environment variables for configuration:\n",
    "- CDSW_PROJECT_ID: Target project ID for deployment\n",
    "- CDSW_DOMAIN: Machine Learning Workspace domain\n",
    "\"\"\"\n",
    "\n",
    "import os\n",
    "\n",
    "import cmlapi\n",
    "\n",
    "# Configuration for model deployment\n",
    "# Runtime environment specification for model serving\n",
    "TARGET_RUNTIME = \"docker.repository.cloudera.com/cloudera/cdsw/ml-runtime-pbj-jupyterlab-python3.11-standard:2025.01.3-b8\"\n",
    "TARGET_PROJECT_ID = os.getenv(\"CDSW_PROJECT_ID\")\n",
    "MODEL_NAME = \"sklearn_model\"\n",
    "\n",
    "# Initialize CML API client\n",
    "workspace_domain = os.getenv(\"CDSW_DOMAIN\")\n",
    "cml_client = cmlapi.default_client(url=f\"https://{workspace_domain}\")\n",
    "\n",
    "# Step 1: Retrieve the model ID from the registry\n",
    "# Search through all registered models to find the one matching our MODEL_NAME\n",
    "response_dict = cml_client.list_registered_models().to_dict()\n",
    "model_id = next((model[\"model_id\"] for model in response_dict[\"models\"] if model[\"name\"] == MODEL_NAME), None)\n",
    "print(f\"Model ID: {model_id}\")\n",
    "\n",
    "# Step 2: Get the latest version of the model\n",
    "# Sort by version number in descending order to get the most recent version\n",
    "registered_model = cml_client.get_registered_model(model_id, sort=\"-version_number\")\n",
    "model_version_id = registered_model.model_versions[0].model_version_id\n",
    "print(f\"Version ID: {model_version_id}\")"
   ]
  },
  {
   "cell_type": "code",
   "execution_count": 23,
   "id": "266caa2c-0241-4bce-848c-1efa12a94502",
   "metadata": {},
   "outputs": [],
   "source": [
    "# Step 3: Create and configure the model deployment\n",
    "# This single request handles model creation, building, and deployment automatically\n",
    "CreateModelRequest = {\n",
    "    \"project_id\": os.getenv(\"CDSW_PROJECT_ID\"), \n",
    "    \"name\" : MODEL_NAME,\n",
    "    \"description\": f\"Production model deployment for model name: {MODEL_NAME}\",\n",
    "    \"disable_authentication\": True,  # Note: Disabling authentication is not recommended for production\n",
    "    \"registered_model_id\": model_id,\n",
    "    # Enable automatic build process\n",
    "    \"auto_build_model\": True,\n",
    "    \"auto_build_config\": {\n",
    "        \"registered_model_version_id\": model_version_id,\n",
    "        \"runtime_identifier\": TARGET_RUNTIME\n",
    "    },\n",
    "    # Enable automatic deployment\n",
    "    \"auto_deploy_model\": True,\n",
    "    \"auto_deploy_config\": {\n",
    "        \"cpu\": 1,      # Allocate 1 CPU core\n",
    "        \"memory\": 2    # Allocate 2 GB memory\n",
    "    }\n",
    "}\n",
    "\n",
    "# Execute the deployment request\n",
    "model_api_response = cml_client.create_model(CreateModelRequest, os.getenv(\"CDSW_PROJECT_ID\"))"
   ]
  },
  {
   "cell_type": "code",
   "execution_count": 24,
   "id": "700557d3-3cd2-4504-91e5-f6eb29fde653",
   "metadata": {},
   "outputs": [
    {
     "data": {
      "text/plain": [
       "{'accelerator_label_id': '0',\n",
       " 'access_key': 'mw0i200i1adu29dsqv3qlipd37trjvln',\n",
       " 'auth_enabled': False,\n",
       " 'created_at': datetime.datetime(2025, 5, 5, 8, 11, 11, 168097, tzinfo=tzlocal()),\n",
       " 'creator': {'email': 'mengelhardt@cloudera.com',\n",
       "             'name': 'Maximilian Engelhardt',\n",
       "             'username': 'mengelhardt'},\n",
       " 'crn': 'crn:cdp:ml:us-west-1:558bc1d2-8867-4357-8524-311d51259233:workspace:d09086fa-a7fe-40bd-b52c-7d99da43255f/86337e52-c846-40e3-9626-1fc65ae6a112',\n",
       " 'default_replication_policy': {'num_replicas': '1', 'type': 'fixed'},\n",
       " 'default_resources': {'cpu_millicores': '1000',\n",
       "                       'memory_mb': '2048',\n",
       "                       'nvidia_gpus': '0'},\n",
       " 'deletion_status': '',\n",
       " 'description': 'Production model deployment for model name: sklearn_model',\n",
       " 'id': '86337e52-c846-40e3-9626-1fc65ae6a112',\n",
       " 'name': 'sklearn_model',\n",
       " 'project': {'default_project_engine': '',\n",
       "             'name': '',\n",
       "             'public_identifier': '',\n",
       "             'slug': ''},\n",
       " 'registered_model_id': '47t0-jfv6-xbas-aztt',\n",
       " 'run_as': 0,\n",
       " 'updated_at': datetime.datetime(2025, 5, 5, 8, 11, 11, 168097, tzinfo=tzlocal()),\n",
       " 'visibility': 'private'}"
      ]
     },
     "execution_count": 24,
     "metadata": {},
     "output_type": "execute_result"
    }
   ],
   "source": [
    "model_api_response"
   ]
  }
 ],
 "metadata": {
  "kernelspec": {
   "display_name": "Python 3 (ipykernel)",
   "language": "python",
   "name": "python3"
  },
  "language_info": {
   "codemirror_mode": {
    "name": "ipython",
    "version": 3
   },
   "file_extension": ".py",
   "mimetype": "text/x-python",
   "name": "python",
   "nbconvert_exporter": "python",
   "pygments_lexer": "ipython3",
   "version": "3.11.11"
  }
 },
 "nbformat": 4,
 "nbformat_minor": 5
}
