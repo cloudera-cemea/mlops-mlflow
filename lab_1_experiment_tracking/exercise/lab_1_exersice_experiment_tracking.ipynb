{
 "cells": [
  {
   "cell_type": "markdown",
   "metadata": {},
   "source": [
    "# Lab 1 Exercise: Experiment Tracking"
   ]
  },
  {
   "cell_type": "markdown",
   "metadata": {},
   "source": [
    "Fix the code below by following best practices described in the [Lab #1 README](./README.md):\n",
    "\n",
    "Tasks:\n",
    "- ✅ Log **parameters** and **metrics**.\n",
    "- ✅ Log the **model artifacts**.\n",
    "\n",
    "Bonus\n",
    "- 🚀 Follow best practices for experiments and runs.\n",
    "- 🚀 Keep track of model signature and input examples.\n",
    "- 🚀 Automate retrieval of the best model.\n",
    "\n",
    "```python\n",
    "import numpy as np\n",
    "from sklearn.linear_model import LogisticRegression\n",
    "from sklearn.datasets import load_iris\n",
    "from sklearn.model_selection import train_test_split\n",
    "\n",
    "hyperparameter_sets = [\n",
    "    {\"solver\": \"liblinear\", \"C\": 0.1},\n",
    "    {\"solver\": \"liblinear\", \"C\": 1.0},\n",
    "    {\"solver\": \"liblinear\", \"C\": 10.0}\n",
    "]\n",
    "\n",
    "for params in hyperparameter_sets:\n",
    "\n",
    "    X, y = load_iris(return_X_y=True)\n",
    "    X_train, X_test, y_train, y_test = train_test_split(X, y, test_size=0.2, random_state=42)\n",
    "\n",
    "    model = LogisticRegression(solver=params[\"solver\"], C=params[\"C\"])\n",
    "    model.fit(X_train, y_train)\n",
    "    accuracy = model.score(X_test, y_test)\n",
    "    print(f\"Model Accuracy: {accuracy}\")\n",
    "```"
   ]
  },
  {
   "cell_type": "markdown",
   "metadata": {},
   "source": [
    "# Solution"
   ]
  },
  {
   "cell_type": "code",
   "execution_count": null,
   "metadata": {},
   "outputs": [],
   "source": []
  }
 ],
 "metadata": {
  "language_info": {
   "name": "python"
  }
 },
 "nbformat": 4,
 "nbformat_minor": 2
}
