{
 "cells": [
  {
   "cell_type": "code",
   "execution_count": null,
   "id": "455a6121-eaec-43eb-9151-1e6647c40ab8",
   "metadata": {
    "tags": []
   },
   "outputs": [
    {
     "name": "stdout",
     "output_type": "stream",
     "text": [
      "Model ID: 60kx-qct5-oafw-zztv\n",
      "Version ID: d0tw-sa2f-y0n6-lipz\n"
     ]
    }
   ],
   "source": [
    "from datetime import datetime\n",
    "import time\n",
    "import sys\n",
    "import os\n",
    "import json\n",
    "\n",
    "import cmlapi\n",
    "\n",
    "TARGET_RUNTIME = \"ares-ecs-docker-repo.cloudera-field.org/cloudera/cdsw/ml-runtime-jupyterlab-python3.11-standard:2024.02.1-b4\"\n",
    "TARGET_PROJECT_ID = os.getenv(\"CDSW_PROJECT_ID\")\n",
    "MODEL_NAME = \"sklearn_model\"\n",
    "\n",
    "# Set up client\n",
    "workspace_domain = os.getenv(\"CDSW_DOMAIN\")\n",
    "cml_client = cmlapi.default_client(url=f\"https://{workspace_domain}\")\n",
    "\n",
    "# Retrieve model id by model name\n",
    "search_filter = {\"model_name\": MODEL_NAME}\n",
    "response_dict = cml_client.list_registered_models(search_filter=json.dumps(search_filter)).to_dict()\n",
    "model_id = response_dict[\"models\"][0][\"model_id\"]\n",
    "print(f\"Model ID: {model_id}\")\n",
    "\n",
    "# Retrieve version id for deployment\n",
    "registered_model = cml_client.get_registered_model(model_id, sort=\"-version_number\")\n",
    "model_version_id = registered_model.model_versions[0].model_version_id\n",
    "print(f\"Version ID: {model_version_id}\")"
   ]
  },
  {
   "cell_type": "code",
   "execution_count": 44,
   "id": "5854e9ae-3b8c-490a-a13a-b2c0718a9d41",
   "metadata": {
    "tags": []
   },
   "outputs": [],
   "source": [
    "# 1. Create Cloudera Machine Learning Model\n",
    "CreateModelRequest = {\n",
    "    \"project_id\": os.getenv(\"CDSW_PROJECT_ID\"), \n",
    "    \"name\" : MODEL_NAME,\n",
    "    \"description\": f\"Production model deployment for model name: {MODEL_NAME}\",\n",
    "    \"disable_authentication\": True, # not recommended for production\n",
    "    \"registered_model_id\": model_id\n",
    "}\n",
    "\n",
    "model_api_response = cml_client.create_model(CreateModelRequest, os.getenv(\"CDSW_PROJECT_ID\"))"
   ]
  },
  {
   "cell_type": "code",
   "execution_count": 45,
   "id": "ab9d088a-aa4a-4106-bb1b-7d3e685dea59",
   "metadata": {
    "tags": []
   },
   "outputs": [
    {
     "data": {
      "text/plain": [
       "{'accelerator_label_id': '0',\n",
       " 'access_key': 'm2j50mmrxoc33scw203lb5iag6mln65v',\n",
       " 'auth_enabled': False,\n",
       " 'created_at': datetime.datetime(2025, 2, 18, 16, 37, 8, 599233, tzinfo=tzutc()),\n",
       " 'creator': {'email': 'mengelhardt@olympus.cloudera.com',\n",
       "             'name': 'mengelhardt',\n",
       "             'username': 'mengelhardt'},\n",
       " 'crn': 'crn:cdp:ml:us-west-1:1f1c06d7-d1dd-4f61-9e01-0ac75c20312b:workspace:8bc314b2-d22f-4393-a660-434a27a3942e/bcc92b43-9545-4b64-8823-a3f00d26e1cf',\n",
       " 'default_replication_policy': {'num_replicas': '1', 'type': 'fixed'},\n",
       " 'default_resources': {'cpu_millicores': '1000',\n",
       "                       'memory_mb': '2048',\n",
       "                       'nvidia_gpus': '0'},\n",
       " 'deletion_status': '',\n",
       " 'description': 'Production model deployment for model name: sklearn_model',\n",
       " 'id': 'bcc92b43-9545-4b64-8823-a3f00d26e1cf',\n",
       " 'name': 'sklearn_model',\n",
       " 'project': {'default_project_engine': '',\n",
       "             'name': '',\n",
       "             'public_identifier': '',\n",
       "             'slug': ''},\n",
       " 'registered_model_id': '60kx-qct5-oafw-zztv',\n",
       " 'run_as': 0,\n",
       " 'updated_at': datetime.datetime(2025, 2, 18, 16, 37, 8, 599233, tzinfo=tzutc()),\n",
       " 'visibility': 'private'}"
      ]
     },
     "execution_count": 45,
     "metadata": {},
     "output_type": "execute_result"
    }
   ],
   "source": [
    "model_api_response"
   ]
  },
  {
   "cell_type": "code",
   "execution_count": 46,
   "id": "f38d8e51-ca77-4d72-8fa6-87c268e5d4b8",
   "metadata": {
    "tags": []
   },
   "outputs": [],
   "source": [
    "# 2. Create Cloudera Machine Learning Model Build\n",
    "CreateModelBuildRequest = {\n",
    "    \"registered_model_version_id\": model_version_id,\n",
    "    \"comment\": \"Invoking model build for model \",\n",
    "    \"runtime_identifier\": TARGET_RUNTIME,\n",
    "    \"model_id\": model_api_response.id\n",
    "}\n",
    "\n",
    "model_build_api_response = cml_client.create_model_build(CreateModelBuildRequest, TARGET_PROJECT_ID, model_api_response.id)"
   ]
  },
  {
   "cell_type": "code",
   "execution_count": 47,
   "id": "97e800d9-bcf9-4748-9518-84555389300a",
   "metadata": {
    "tags": []
   },
   "outputs": [
    {
     "data": {
      "text/plain": [
       "{'built_at': datetime.datetime(1, 1, 1, 0, 0, tzinfo=tzutc()),\n",
       " 'comment': 'Invoking model build for model ',\n",
       " 'created_at': datetime.datetime(2025, 2, 18, 16, 37, 8, 868910, tzinfo=tzutc()),\n",
       " 'creator': {'email': 'mengelhardt@olympus.cloudera.com',\n",
       "             'name': 'mengelhardt',\n",
       "             'username': 'mengelhardt'},\n",
       " 'crn': 'crn:cdp:ml:us-west-1:1f1c06d7-d1dd-4f61-9e01-0ac75c20312b:workspace:8bc314b2-d22f-4393-a660-434a27a3942e/cd14c841-edff-41b7-9b65-4e79b0a4c113',\n",
       " 'deletion_status': '',\n",
       " 'engine_image': '',\n",
       " 'file_path': 'predict.py',\n",
       " 'function_name': 'predict_with_metrics',\n",
       " 'id': 'cd14c841-edff-41b7-9b65-4e79b0a4c113',\n",
       " 'kernel': 'Python 3.11',\n",
       " 'model_id': 'bcc92b43-9545-4b64-8823-a3f00d26e1cf',\n",
       " 'registered_model_version_id': 'd0tw-sa2f-y0n6-lipz',\n",
       " 'runtime_addon_identifiers': ['hadoop-cli-7.1.9.0-387'],\n",
       " 'runtime_identifier': 'ares-ecs-docker-repo.cloudera-field.org/cloudera/cdsw/ml-runtime-jupyterlab-python3.11-standard:2024.02.1-b4',\n",
       " 'status': 'pending',\n",
       " 'updated_at': datetime.datetime(2025, 2, 18, 16, 37, 9, 905168, tzinfo=tzutc())}"
      ]
     },
     "execution_count": 47,
     "metadata": {},
     "output_type": "execute_result"
    }
   ],
   "source": [
    "model_build_api_response"
   ]
  },
  {
   "cell_type": "code",
   "execution_count": 48,
   "id": "353db5fa-61b5-4dda-8edc-86dee19062cc",
   "metadata": {
    "tags": []
   },
   "outputs": [
    {
     "name": "stdout",
     "output_type": "stream",
     "text": [
      "11:37:10\n",
      "Waiting for model to build...\n",
      "Waiting for model to build...\n",
      "Waiting for model to build...\n",
      "Waiting for model to build...\n",
      "Waiting for model to build...\n",
      "Waiting for model to build...\n",
      "Waiting for model to build...\n",
      "Waiting for model to build...\n",
      "Waiting for model to build...\n",
      "Waiting for model to build...\n",
      "Waiting for model to build...\n",
      "Waiting for model to build...\n",
      "Waiting for model to build...\n",
      "Waiting for model to build...\n",
      "Waiting for model to build...\n",
      "Waiting for model to build...\n",
      "Waiting for model to build...\n",
      "Waiting for model to build...\n",
      "Waiting for model to build...\n",
      "Waiting for model to build...\n",
      "Waiting for model to build...\n",
      "Waiting for model to build...\n",
      "Waiting for model to build...\n",
      "Time required for building model (sec): 230.\n",
      "Model build finished successfully.\n"
     ]
    }
   ],
   "source": [
    "start_time = datetime.now()\n",
    "print(start_time.strftime(\"%H:%M:%S\"))\n",
    "\n",
    "# keep track of the build process\n",
    "while model_build_api_response.status not in [\"built\", \"build failed\"]:\n",
    "    print(\"Waiting for model to build...\")\n",
    "    time.sleep(10)\n",
    "    model_build_api_response = cml_client.get_model_build(\n",
    "        TARGET_PROJECT_ID,\n",
    "        model_api_response.id,\n",
    "        model_build_api_response.id\n",
    "    )\n",
    "    if model_build_api_response.status == \"build failed\" :\n",
    "        print(\"Model build failed, see UI for more information\")\n",
    "        sys.exit(1)\n",
    "\n",
    "build_time = datetime.now()   \n",
    "print(f\"Time required for building model (sec): {(build_time - start_time).seconds}.\")\n",
    "print(\"Model build finished successfully.\")"
   ]
  },
  {
   "cell_type": "code",
   "execution_count": null,
   "id": "7ead1b25-a726-466b-b5dd-641f6ff77584",
   "metadata": {
    "tags": []
   },
   "outputs": [],
   "source": [
    "# 3. Create Cloudera Machine Learning Model Deployment\n",
    "CreateModelDeploymentRequest = {\n",
    "    \"project_id\": TARGET_PROJECT_ID,\n",
    "    \"model_id\": model_api_response.id,\n",
    "    \"model_build_id\": model_build_api_response.id,\n",
    "    \"cpu\": 1,\n",
    "    \"memory\": 2\n",
    "}\n",
    "\n",
    "model_deployment_api_response = cml_client.create_model_deployment(\n",
    "    CreateModelDeploymentRequest,\n",
    "    TARGET_PROJECT_ID,\n",
    "    model_api_response.id,\n",
    "    model_build_api_response.id\n",
    ")"
   ]
  },
  {
   "cell_type": "code",
   "execution_count": 50,
   "id": "3027dafb-a5bd-4b96-997f-f14a73c74bde",
   "metadata": {
    "tags": []
   },
   "outputs": [
    {
     "data": {
      "text/plain": [
       "{'build_id': 'cd14c841-edff-41b7-9b65-4e79b0a4c113',\n",
       " 'cpu': 1.0,\n",
       " 'created_at': datetime.datetime(2025, 2, 18, 16, 41, 0, 382073, tzinfo=tzutc()),\n",
       " 'crn': 'crn:cdp:ml:us-west-1:1f1c06d7-d1dd-4f61-9e01-0ac75c20312b:workspace:8bc314b2-d22f-4393-a660-434a27a3942e/9577c1cf-b037-4905-b9ca-00c67d16f576',\n",
       " 'deployer': {'email': 'mengelhardt@olympus.cloudera.com',\n",
       "              'name': 'mengelhardt',\n",
       "              'username': 'mengelhardt'},\n",
       " 'environment': '{}',\n",
       " 'id': '9577c1cf-b037-4905-b9ca-00c67d16f576',\n",
       " 'memory': 2.0,\n",
       " 'model_id': 'bcc92b43-9545-4b64-8823-a3f00d26e1cf',\n",
       " 'nvidia_gpu': 0,\n",
       " 'project_id': 'x2ni-xczp-e1t4-5rqa',\n",
       " 'replicas': 1,\n",
       " 'status': 'deploying',\n",
       " 'stopped_at': datetime.datetime(1, 1, 1, 0, 0, tzinfo=tzutc()),\n",
       " 'updated_at': datetime.datetime(2025, 2, 18, 16, 41, 1, 986793, tzinfo=tzutc())}"
      ]
     },
     "execution_count": 50,
     "metadata": {},
     "output_type": "execute_result"
    }
   ],
   "source": [
    "model_deployment_api_response"
   ]
  },
  {
   "cell_type": "code",
   "execution_count": null,
   "id": "09479fe4-d06a-4171-8014-ed580e751727",
   "metadata": {
    "tags": []
   },
   "outputs": [
    {
     "name": "stdout",
     "output_type": "stream",
     "text": [
      "11:41:02\n",
      "Waiting for model to deploy...\n",
      "Waiting for model to deploy...\n",
      "Waiting for model to deploy...\n",
      "Waiting for model to deploy...\n",
      "Waiting for model to deploy...\n",
      "Time required for deploying model (sec): 50.\n",
      "Model deployed successfully!\n"
     ]
    }
   ],
   "source": [
    "start_time = datetime.now()\n",
    "print(start_time.strftime(\"%H:%M:%S\"))\n",
    "\n",
    "while model_deployment_api_response.status not in [\"stopped\", \"failed\", \"deployed\"]:\n",
    "    print(\"Waiting for model to deploy...\")\n",
    "    time.sleep(10)\n",
    "    model_deployment_api_response = cml_client.get_model_deployment(\n",
    "        TARGET_PROJECT_ID,\n",
    "        model_api_response.id,\n",
    "        model_build_api_response.id,\n",
    "        model_deployment_api_response.id\n",
    ")\n",
    "\n",
    "if model_deployment_api_response.status != \"deployed\":\n",
    "    print(\"Model deployment failed, see UI for more information.\")\n",
    "    sys.exit(1)\n",
    "\n",
    "if model_deployment_api_response.status == \"deployed\" :\n",
    "    print(f\"Time required for deploying model (sec): {(datetime.now() - start_time).seconds}.\")\n",
    "    print(\"Model deployed successfully!\")"
   ]
  }
 ],
 "metadata": {
  "kernelspec": {
   "display_name": "Python 3 (ipykernel)",
   "language": "python",
   "name": "python3"
  },
  "language_info": {
   "codemirror_mode": {
    "name": "ipython",
    "version": 3
   },
   "file_extension": ".py",
   "mimetype": "text/x-python",
   "name": "python",
   "nbconvert_exporter": "python",
   "pygments_lexer": "ipython3",
   "version": "3.11.6"
  }
 },
 "nbformat": 4,
 "nbformat_minor": 5
}
