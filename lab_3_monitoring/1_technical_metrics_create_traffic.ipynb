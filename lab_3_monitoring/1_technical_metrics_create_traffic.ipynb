{
 "cells": [
  {
   "cell_type": "markdown",
   "id": "622e22b4",
   "metadata": {},
   "source": [
    "# MLOps Simulation\n",
    "\n",
    "The script below creates synthetic data and simulates calls to a deployed model endpoint in order to create technical metrics.\n",
    "\n",
    "- ✅ Execute the steps below to create model endpoint calls.\n",
    "- ✅ Then navigate back to the Model Deployment in Cloudera Machine Learning and observe the technical metrics."
   ]
  },
  {
   "cell_type": "code",
   "execution_count": null,
   "id": "48b7f7a0-822f-411c-8e38-dd0fa6e08c8a",
   "metadata": {
    "tags": []
   },
   "outputs": [],
   "source": [
    "from cml.models_v1 import call_model\n",
    "\n",
    "import numpy as np\n",
    "from sklearn.datasets import load_iris\n",
    "\n",
    "# Configure the deployed model to be used from the previous lab\n",
    "# Navigate to the Deployment UI to retrieve model Access Key and CRN\n",
    "MODEL_ACCESS_KEY=\"m27jyo2p6hxxwjaleddmo35jne4rtfx9\"\n",
    "N_SAMPLES = 1000\n",
    "\n",
    "# Load Iris dataset\n",
    "iris = load_iris()\n",
    "feature_min = iris.data.min(axis=0)\n",
    "feature_max = iris.data.max(axis=0)\n",
    "\n",
    "# Generate a random synthetic sample\n",
    "synthetic_sample = np.random.uniform(feature_min, feature_max, size=(N_SAMPLES, iris.data.shape[1]))"
   ]
  },
  {
   "cell_type": "code",
   "execution_count": null,
   "id": "25efd39e-72ac-46cb-9714-690c293a6790",
   "metadata": {},
   "outputs": [],
   "source": [
    "# Iterate over each row in the synthetic_sample array and call the model\n",
    "for sample in synthetic_sample:\n",
    "    input_sample = {\"inputs\": [sample.tolist()]}\n",
    "    call_model(model_access_key=MODEL_ACCESS_KEY, ipt=input_sample)\n",
    "\n",
    "print(\"Finished simulating load. Check the Model Deployment Monitoring UI to see the metrics.\")"
   ]
  },
  {
   "cell_type": "markdown",
   "id": "2c423f42",
   "metadata": {},
   "source": [
    "After a few minutes, the Model Deployment Monitoring UI should show the load.\n",
    "\n",
    "![technical monitoring](../images/tech-monitoring.png)"
   ]
  }
 ],
 "metadata": {
  "kernelspec": {
   "display_name": "Python 3 (ipykernel)",
   "language": "python",
   "name": "python3"
  },
  "language_info": {
   "codemirror_mode": {
    "name": "ipython",
    "version": 3
   },
   "file_extension": ".py",
   "mimetype": "text/x-python",
   "name": "python",
   "nbconvert_exporter": "python",
   "pygments_lexer": "ipython3",
   "version": "3.11.6"
  }
 },
 "nbformat": 4,
 "nbformat_minor": 5
}
