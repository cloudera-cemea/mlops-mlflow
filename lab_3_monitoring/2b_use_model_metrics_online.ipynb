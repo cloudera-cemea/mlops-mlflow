{
 "cells": [
  {
   "cell_type": "markdown",
   "id": "76c778fc",
   "metadata": {},
   "source": [
    "# Use Model Metrics to Monitor Drift for a Deployed Model\n",
    "\n",
    "This notebook shows a full example how to make use of Model Metrics to monitor prediction quality and data drift based on the **deployed** model from the previous lab. This is done by tracking inputs, predictions and a delayed ground truth, e.g. in order to implement model performance drift monitoring workflows.\n",
    "\n",
    "- ✅ Create synthetic data and labels (ground truth) based on the `Iris` dataset.\n",
    "- ✅ Track and correlate the ground truth with predictions via the `track_delayed_metrics` function.\n",
    "- ✅ Test the metrics store in \"production\" mode."
   ]
  },
  {
   "cell_type": "code",
   "execution_count": 12,
   "id": "2cd0d83f-988f-402d-9ec8-a53842f4d57a",
   "metadata": {
    "tags": []
   },
   "outputs": [],
   "source": [
    "import time\n",
    "from sklearn import datasets\n",
    "import numpy as np\n",
    "\n",
    "import cml.metrics_v1 as metrics\n",
    "from cml.models_v1 import call_model\n",
    "\n",
    "# Configure the deployed model to be used from the previous lab\n",
    "# Navigate to the Deployment UI to retrieve model Access Key and CRN\n",
    "MODEL_ACCESS_KEY=\"m27jyo2p6hxxwjaleddmo35jne4rtfx9\"\n",
    "MODEL_CRN = \"crn:cdp:ml:us-west-1:558bc1d2-8867-4357-8524-311d51259233:workspace:d09086fa-a7fe-40bd-b52c-7d99da43255f/75603914-34fb-495e-b183-cc06e70f38c7\"\n",
    "N_SAMPLES = 100\n",
    "\n",
    "# Load Iris dataset\n",
    "iris = datasets.load_iris()\n",
    "feature_min = iris.data.min(axis=0)\n",
    "feature_max = iris.data.max(axis=0)\n",
    "\n",
    "# Generate a random synthetic sample\n",
    "synthetic_sample = np.random.uniform(feature_min, feature_max, size=(N_SAMPLES, iris.data.shape[1])) # e.g. (100, 4)\n",
    "synthetic_labels = np.random.choice(iris.target, size=N_SAMPLES) # e.g. (100, )"
   ]
  },
  {
   "cell_type": "code",
   "execution_count": 13,
   "id": "6246165a-b72a-4d68-af35-353b8198ac4c",
   "metadata": {},
   "outputs": [],
   "source": [
    "# Record the current time so we can retrieve the metrics\n",
    "# tracked for these calls later on.\n",
    "start_timestamp_ms=int(round(time.time() * 1000))\n",
    "\n",
    "# Simulate batch inference\n",
    "uuids = []\n",
    "\n",
    "# Iterate over each row in the synthetic_sample array and call the model\n",
    "for sample in synthetic_sample:\n",
    "    sample_input = {\"inputs\": [sample.tolist()]}\n",
    "    output = call_model(MODEL_ACCESS_KEY, ipt=sample_input)\n",
    "    # Record the UUID of each prediction for correlation with ground truth.\n",
    "    uuids.append(output[\"response\"][\"uuid\"])\n",
    "\n",
    "# Record the current to mark the end of the time window.\n",
    "end_timestamp_ms=int(round(time.time() * 1000))"
   ]
  },
  {
   "cell_type": "code",
   "execution_count": 14,
   "id": "5c8dcd25",
   "metadata": {},
   "outputs": [
    {
     "data": {
      "text/plain": [
       "{'modelDeploymentCrn': 'crn:cdp:ml:us-west-1:558bc1d2-8867-4357-8524-311d51259233:workspace:d09086fa-a7fe-40bd-b52c-7d99da43255f/ee50a723-aed8-46ee-a96f-c97d8e211428',\n",
       " 'modelBuildCrn': 'crn:cdp:ml:us-west-1:558bc1d2-8867-4357-8524-311d51259233:workspace:d09086fa-a7fe-40bd-b52c-7d99da43255f/3aff08df-7d58-4919-8521-8ea1f9fddae9',\n",
       " 'modelCrn': 'crn:cdp:ml:us-west-1:558bc1d2-8867-4357-8524-311d51259233:workspace:d09086fa-a7fe-40bd-b52c-7d99da43255f/75603914-34fb-495e-b183-cc06e70f38c7',\n",
       " 'startTimeStampMs': 1746629493901,\n",
       " 'endTimeStampMs': 1746629493936,\n",
       " 'predictionUuid': 'e58969ea-73b2-4e37-953d-1b7e36a6a43b',\n",
       " 'metrics': {'prediction': [2]}}"
      ]
     },
     "execution_count": 14,
     "metadata": {},
     "output_type": "execute_result"
    }
   ],
   "source": [
    "# We can now use the read_metrics function to read the metrics we just\n",
    "# generated into the current session, by querying by time window.\n",
    "data = metrics.read_metrics(start_timestamp_ms=start_timestamp_ms,\n",
    "                            end_timestamp_ms=end_timestamp_ms,\n",
    "                            model_crn=MODEL_CRN)[\"metrics\"]\n",
    "\n",
    "# Show a single logged prediction with metrics\n",
    "data[0]"
   ]
  },
  {
   "cell_type": "code",
   "execution_count": 15,
   "id": "b023fce9-6ee1-4b3b-bf4f-2b50721df145",
   "metadata": {
    "tags": []
   },
   "outputs": [],
   "source": [
    "# Now, ground truth is known and we want to track the true value\n",
    "# corresponding to each prediction above.\n",
    "synthetic_labels = np.random.choice(iris.target, size=N_SAMPLES)\n",
    "\n",
    "# Track the true values alongside the corresponding predictions\n",
    "# with track_delayed_metrics function\n",
    "n = len(synthetic_labels)\n",
    "for i in range(n):\n",
    "    ground_truth = synthetic_labels[i]\n",
    "    metrics.track_delayed_metrics(\n",
    "        {\"actual_result\": str(ground_truth)},\n",
    "        uuids[i]\n",
    "    )"
   ]
  },
  {
   "cell_type": "code",
   "execution_count": 16,
   "id": "1386926c",
   "metadata": {
    "tags": []
   },
   "outputs": [
    {
     "data": {
      "text/plain": [
       "{'modelDeploymentCrn': 'crn:cdp:ml:us-west-1:558bc1d2-8867-4357-8524-311d51259233:workspace:d09086fa-a7fe-40bd-b52c-7d99da43255f/ee50a723-aed8-46ee-a96f-c97d8e211428',\n",
       " 'modelBuildCrn': 'crn:cdp:ml:us-west-1:558bc1d2-8867-4357-8524-311d51259233:workspace:d09086fa-a7fe-40bd-b52c-7d99da43255f/3aff08df-7d58-4919-8521-8ea1f9fddae9',\n",
       " 'modelCrn': 'crn:cdp:ml:us-west-1:558bc1d2-8867-4357-8524-311d51259233:workspace:d09086fa-a7fe-40bd-b52c-7d99da43255f/75603914-34fb-495e-b183-cc06e70f38c7',\n",
       " 'startTimeStampMs': 1746629493901,\n",
       " 'endTimeStampMs': 1746629493936,\n",
       " 'predictionUuid': 'e58969ea-73b2-4e37-953d-1b7e36a6a43b',\n",
       " 'metrics': {'actual_result': '1', 'prediction': [2]}}"
      ]
     },
     "execution_count": 16,
     "metadata": {},
     "output_type": "execute_result"
    }
   ],
   "source": [
    "# Read the metrics again.\n",
    "data = metrics.read_metrics(start_timestamp_ms=start_timestamp_ms,\n",
    "                            end_timestamp_ms=end_timestamp_ms,\n",
    "                            model_crn=MODEL_CRN)[\"metrics\"]\n",
    "\n",
    "# Show a single logged prediction with metrics, now along with the ground truth.\n",
    "data[0]"
   ]
  }
 ],
 "metadata": {
  "kernelspec": {
   "display_name": "Python 3 (ipykernel)",
   "language": "python",
   "name": "python3"
  },
  "language_info": {
   "codemirror_mode": {
    "name": "ipython",
    "version": 3
   },
   "file_extension": ".py",
   "mimetype": "text/x-python",
   "name": "python",
   "nbconvert_exporter": "python",
   "pygments_lexer": "ipython3",
   "version": "3.11.11"
  }
 },
 "nbformat": 4,
 "nbformat_minor": 5
}
