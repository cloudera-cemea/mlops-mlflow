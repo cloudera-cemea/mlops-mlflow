{
 "cells": [
  {
   "cell_type": "markdown",
   "id": "622e22b4",
   "metadata": {},
   "source": [
    "# MLOps Simulation\n",
    "\n",
    "The script below creates synthetic data and simulates calls to a deployed model endpoint in order to create technical metrics.\n",
    "\n",
    "- ✅ Execute the steps below to create model `N_SAMPLES` model endpoint calls.\n",
    "- ✅ Then navigate back to the Model Deployment in Cloudera Machine Learning and observe the technical metrics."
   ]
  },
  {
   "cell_type": "code",
   "execution_count": null,
   "id": "48b7f7a0-822f-411c-8e38-dd0fa6e08c8a",
   "metadata": {
    "tags": []
   },
   "outputs": [],
   "source": [
    "import cdsw\n",
    "\n",
    "import numpy as np\n",
    "from sklearn.datasets import load_iris"
   ]
  },
  {
   "cell_type": "code",
   "execution_count": null,
   "id": "cd5bef20",
   "metadata": {},
   "outputs": [],
   "source": [
    "MODEL_ACCESS_KEY=\"<model-access-key>\"\n",
    "N_SAMPLES = 1000"
   ]
  },
  {
   "cell_type": "code",
   "execution_count": null,
   "id": "868a53b8-42f1-4bcf-b95e-5fd5e5d46547",
   "metadata": {
    "tags": []
   },
   "outputs": [],
   "source": [
    "# Load Iris dataset\n",
    "iris = load_iris()\n",
    "feature_min = iris.data.min(axis=0)\n",
    "feature_max = iris.data.max(axis=0)\n",
    "\n",
    "# Generate a random synthetic sample\n",
    "synthetic_sample = np.random.uniform(feature_min, feature_max, size=(N_SAMPLES, iris.data.shape[1]))"
   ]
  },
  {
   "cell_type": "code",
   "execution_count": null,
   "id": "25efd39e-72ac-46cb-9714-690c293a6790",
   "metadata": {},
   "outputs": [],
   "source": [
    "# simulate N_SAMPLES model calls\n",
    "for sample in synthetic_sample:\n",
    "    input_sample = {\"inputs\": [sample.tolist()]}\n",
    "    cdsw.call_model(model_access_key=MODEL_ACCESS_KEY, ipt=input_sample)"
   ]
  }
 ],
 "metadata": {
  "kernelspec": {
   "display_name": "Python 3 (ipykernel)",
   "language": "python",
   "name": "python3"
  },
  "language_info": {
   "codemirror_mode": {
    "name": "ipython",
    "version": 3
   },
   "file_extension": ".py",
   "mimetype": "text/x-python",
   "name": "python",
   "nbconvert_exporter": "python",
   "pygments_lexer": "ipython3",
   "version": "3.11.6"
  }
 },
 "nbformat": 4,
 "nbformat_minor": 5
}
